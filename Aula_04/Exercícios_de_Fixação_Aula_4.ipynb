{
  "nbformat": 4,
  "nbformat_minor": 0,
  "metadata": {
    "colab": {
      "name": "Exercícios de Fixação - Aula 4.ipynb",
      "provenance": [],
      "include_colab_link": true
    },
    "kernelspec": {
      "name": "python395jvsc74a57bd09193430e8784a101ca837788a22cad3742d7dd1eb75d7f61060e804b8498ee0f",
      "display_name": "Python 3.9.5 64-bit"
    },
    "language_info": {
      "name": "python",
      "version": "3.9.5"
    },
    "metadata": {
      "interpreter": {
        "hash": "9193430e8784a101ca837788a22cad3742d7dd1eb75d7f61060e804b8498ee0f"
      }
    }
  },
  "cells": [
    {
      "cell_type": "markdown",
      "metadata": {
        "id": "view-in-github",
        "colab_type": "text"
      },
      "source": [
        "<a href=\"https://colab.research.google.com/github/edumeirelles/Blue_modulo1/blob/main/Aula_04/Exerc%C3%ADcios_de_Fixa%C3%A7%C3%A3o_Aula_4.ipynb\" target=\"_parent\"><img src=\"https://colab.research.google.com/assets/colab-badge.svg\" alt=\"Open In Colab\"/></a>"
      ]
    },
    {
      "cell_type": "markdown",
      "metadata": {
        "id": "Qtt9H3_F3Q1L"
      },
      "source": [
        "Exercícios de Fixação - Aula 4"
      ]
    },
    {
      "cell_type": "markdown",
      "metadata": {
        "id": "0I4Dum283Zvk"
      },
      "source": [
        "1.Faça um Programa que mostre a mensagem \"Alo mundo\" na tela."
      ]
    },
    {
      "cell_type": "code",
      "metadata": {
        "colab": {
          "base_uri": "https://localhost:8080/"
        },
        "id": "Bl4eyMdt3MNE",
        "outputId": "babb8a3d-caf9-4230-bd3e-6afc969f3183"
      },
      "source": [
        "print(\"Olá Mundo!!!\")"
      ],
      "execution_count": null,
      "outputs": [
        {
          "output_type": "stream",
          "text": [
            "Olá Mundo!\n"
          ],
          "name": "stdout"
        }
      ]
    },
    {
      "cell_type": "markdown",
      "metadata": {
        "id": "ceUO8KZm3f6Q"
      },
      "source": [
        "2. Faça um Programa que peça um número e então mostre a mensagem O número informado foi [número]."
      ]
    },
    {
      "cell_type": "code",
      "metadata": {
        "colab": {
          "base_uri": "https://localhost:8080/"
        },
        "id": "4WbC9r3R3ewo",
        "outputId": "5d8ec5bc-fa8b-4f2c-dfb8-e453d39f6fd3"
      },
      "source": [
        "num = int(input('Digite um número: '))\n",
        "print(f'O número informado foi {num}')"
      ],
      "execution_count": null,
      "outputs": [
        {
          "output_type": "stream",
          "text": [
            "O número informado foi 5\n"
          ],
          "name": "stdout"
        }
      ]
    },
    {
      "cell_type": "markdown",
      "metadata": {
        "id": "XTB_RF1IXF-b"
      },
      "source": [
        "3. Faça um Programa que peça dois números e imprima a soma."
      ]
    },
    {
      "cell_type": "code",
      "metadata": {
        "id": "d-V6Nbj84Gv-"
      },
      "source": [
        "num1 = int(input('Digite um número: '))\n",
        "num2 = int(input('Digite outro número: '))\n",
        "soma = num1 + num2\n",
        "print(f'Soma = {soma}')"
      ],
      "execution_count": null,
      "outputs": []
    },
    {
      "cell_type": "markdown",
      "metadata": {
        "id": "jNUHOtxP4v74"
      },
      "source": [
        "4. Faça um Programa que peça as 4 notas bimestrais e mostre a média."
      ]
    },
    {
      "cell_type": "code",
      "metadata": {
        "colab": {
          "base_uri": "https://localhost:8080/"
        },
        "id": "8PYslUBk4yhM",
        "outputId": "28f5e428-bc7c-4f5f-bfab-a1b780653c8b"
      },
      "source": [
        "bim1 = float(input('Digite a nota do primeiro bimestre: '))\n",
        "bim2 = float(input('Digite a nota do segundo bimestre: '))\n",
        "bim3 = float(input('Digite a nota do terceiro bimestre: '))\n",
        "bim4 = float(input('Digite a nota do quarto bimestre: '))\n",
        "media = (bim1 + bim2 + bim3 + bim4) / 4\n",
        "print(f'Média = {media:.1f}')"
      ],
      "execution_count": null,
      "outputs": [
        {
          "output_type": "stream",
          "text": [
            "Digite a nota do primeiro bimestre: 6.2\n",
            "Digite a nota do segundo bimestre: 5.9\n",
            "Digite a nota do terceiro bimestre: 4.3\n",
            "Digite a nota do quarto bimestre: 7.3\n",
            "Média = 5.9\n"
          ],
          "name": "stdout"
        }
      ]
    },
    {
      "cell_type": "markdown",
      "metadata": {
        "id": "lKDGfVHO79LR"
      },
      "source": [
        "5. Faça um Programa que converta metros para centímetros."
      ]
    },
    {
      "cell_type": "code",
      "metadata": {
        "colab": {
          "base_uri": "https://localhost:8080/"
        },
        "id": "WwOnnLfq7-1N",
        "outputId": "1af94c4b-ed74-49f5-b547-e04e343a1136"
      },
      "source": [
        "tam_m = float(input('Digite o tamanho em metros: '))\n",
        "tam_cm = tam_m * 100\n",
        "print(f'Tamanho em centímetros: {tam_cm:.2f}')"
      ],
      "execution_count": null,
      "outputs": [
        {
          "output_type": "stream",
          "text": [
            "Digite o tamanho em metros: 0.56\n",
            "Tamanho em centímetros: 56.00\n"
          ],
          "name": "stdout"
        }
      ]
    },
    {
      "cell_type": "markdown",
      "metadata": {
        "id": "ANChPrIW-OCe"
      },
      "source": [
        "6. Faça um Programa que peça o raio de um círculo, calcule e mostre sua área."
      ]
    },
    {
      "cell_type": "code",
      "metadata": {
        "colab": {
          "base_uri": "https://localhost:8080/"
        },
        "id": "zZqnIIcz-Uhz",
        "outputId": "d402ed92-cc94-46a4-dd3d-3d3767104179"
      },
      "source": [
        "import math\n",
        "r = float(input('Digite o raio do círculo: '))\n",
        "area = (r**2) * math.pi\n",
        "print(f'Área = {area:.2f} ')"
      ],
      "execution_count": null,
      "outputs": [
        {
          "output_type": "stream",
          "text": [
            "Digite o raio do círculo: 50\n",
            "Área = 7853.98 \n"
          ],
          "name": "stdout"
        }
      ]
    },
    {
      "cell_type": "markdown",
      "metadata": {
        "id": "KNG6Xu2rITM4"
      },
      "source": [
        "7. Faça um Programa que calcule a área de um quadrado, em seguida mostre o dobro desta área para o usuário."
      ]
    },
    {
      "cell_type": "code",
      "metadata": {
        "colab": {
          "base_uri": "https://localhost:8080/"
        },
        "id": "vel4Uf4JIbmS",
        "outputId": "a15e662c-395b-4c68-daef-0e8d0c5e9263"
      },
      "source": [
        "lado = float(input('Digite o lado do quadrado: '))\n",
        "area = lado ** 2\n",
        "dobro_area = area * 2\n",
        "print(f'O dobro da área é {dobro_area:.2f}!')"
      ],
      "execution_count": null,
      "outputs": [
        {
          "output_type": "stream",
          "text": [
            "Digite o lado do quadrado: 20\n",
            "O dobro da área é 800.00!\n"
          ],
          "name": "stdout"
        }
      ]
    },
    {
      "cell_type": "markdown",
      "metadata": {
        "id": "5n1zn2YhYH0f"
      },
      "source": [
        "8. Faça um Programa que pergunte quanto você ganha por hora e o número de horas trabalhadas no mês. Calcule e mostre o total do seu salário no referido mês."
      ]
    },
    {
      "cell_type": "code",
      "metadata": {
        "colab": {
          "base_uri": "https://localhost:8080/"
        },
        "id": "JRFdQRTjYKcp",
        "outputId": "18f62016-dd29-45e5-ce5f-f802107f26de"
      },
      "source": [
        "valor_hora = float(input('Quanto é o valor da sua hora trabalhada?: '))\n",
        "qtde_horas = float(input('Quantas horas você trabalha por mês?: '))\n",
        "salario = valor_hora * qtde_horas\n",
        "print(f'O seu salário mensal é {salario:.2f}'+'.')"
      ],
      "execution_count": null,
      "outputs": [
        {
          "output_type": "stream",
          "text": [
            "Quanto é o valor da sua hora trabalhada?: 8.15\n",
            "Quantas horas você trabalha por mês?: 200\n",
            "O seu salário mensal é 1630.00.\n"
          ],
          "name": "stdout"
        }
      ]
    },
    {
      "cell_type": "markdown",
      "metadata": {
        "id": "jtJ7oaJ1ZYcO"
      },
      "source": [
        "9. Faça um Programa que peça a temperatura em graus Fahrenheit, transforme e mostre a temperatura em graus Celsius.\n",
        "C = 5 * ((F-32) / 9)."
      ]
    },
    {
      "cell_type": "code",
      "metadata": {
        "colab": {
          "base_uri": "https://localhost:8080/"
        },
        "id": "OhF_fnc2Zbsm",
        "outputId": "8ecb421a-32e0-4503-a8bd-ebbf6e25eb1c"
      },
      "source": [
        "f = float(input('Temperatura em Fahrenheit: '))\n",
        "c = (f-32) * 5/9\n",
        "print(f'A temperatura em Celcius é {c:.1f}')"
      ],
      "execution_count": null,
      "outputs": [
        {
          "output_type": "stream",
          "text": [
            "Temperatura em Fahrenheit: 1000\n",
            "A temperatura em Celcius é 537.8\n"
          ],
          "name": "stdout"
        }
      ]
    },
    {
      "cell_type": "markdown",
      "metadata": {
        "id": "HexpUVTfbQCs"
      },
      "source": [
        "10. Faça um Programa que peça a temperatura em graus Celsius, transforme e mostre em graus Fahrenheit.\n"
      ]
    },
    {
      "cell_type": "code",
      "metadata": {
        "colab": {
          "base_uri": "https://localhost:8080/"
        },
        "id": "cB5XQ7EybUW1",
        "outputId": "c4d71bfd-b5a8-4f1c-ede7-58080437a82f"
      },
      "source": [
        "c = float(input('Temperatura em Celcius: '))\n",
        "f = (c*9/5) + 32\n",
        "print(f'A temperatura em Celcius é {f:.1f}')"
      ],
      "execution_count": null,
      "outputs": [
        {
          "output_type": "stream",
          "text": [
            "Temperatura em Celcius: 40\n",
            "A temperatura em Celcius é 104.0\n"
          ],
          "name": "stdout"
        }
      ]
    },
    {
      "cell_type": "markdown",
      "metadata": {
        "id": "epG-aAxdc4KC"
      },
      "source": [
        "11. Faça um Programa que peça 2 números inteiros e um número real. Calcule e mostre:\n",
        "o produto do dobro do primeiro com metade do segundo .\n",
        "a soma do triplo do primeiro com o terceiro.\n",
        "o terceiro elevado ao cubo."
      ]
    },
    {
      "cell_type": "code",
      "metadata": {
        "colab": {
          "base_uri": "https://localhost:8080/"
        },
        "id": "iiBNMdACc8x6",
        "outputId": "e52d21ca-01e0-46a7-9296-e0fa2c9fd632"
      },
      "source": [
        "int1 = int(input('Digite um número inteiro: '))\n",
        "int2 = int(input('Digite outro número inteiro: '))\n",
        "real = float(input('Digite um número real: '))\n",
        "res1 = (int1*2)*(int2/2)\n",
        "res2 = (int2*3) + real\n",
        "res3 = real ** 3\n",
        "print(f'Resulatdo 1 = {res1:.2f}')\n",
        "print(f'Resultado 2 = {res2:.2f}')\n",
        "print(f'Resultado 3 = {res3:.2f}')"
      ],
      "execution_count": null,
      "outputs": [
        {
          "output_type": "stream",
          "text": [
            "Digite um número inteiro: 10\n",
            "Digite outro número inteiro: 20\n",
            "Digite um número real: 5.45\n",
            "Resulatdo 1 = 200.00\n",
            "Resultado 2 = 65.45\n",
            "Resultado 3 = 161.88\n"
          ],
          "name": "stdout"
        }
      ]
    },
    {
      "cell_type": "markdown",
      "metadata": {
        "id": "idfwAp2yipOG"
      },
      "source": [
        "12. Tendo como dados de entrada a altura de uma pessoa, construa um algoritmo que calcule seu peso ideal, usando a seguinte fórmula: (72.7*altura) - 58"
      ]
    },
    {
      "cell_type": "code",
      "metadata": {
        "colab": {
          "base_uri": "https://localhost:8080/"
        },
        "id": "vY3cDW92i3ah",
        "outputId": "aaf63de8-a510-4b8d-dc67-4801d7e2b3fb"
      },
      "source": [
        "alt = input('Digite sua altura: ')\n",
        "alt = alt.replace(',','.')\n",
        "alt = float(alt)\n",
        "peso_ideal = (72.7 * alt) -58\n",
        "print(f'O seu peso ideal é {peso_ideal:.2f} kg')"
      ],
      "execution_count": null,
      "outputs": [
        {
          "output_type": "stream",
          "text": [
            "Digite sua altura: 1,73\n",
            "O seu peso ideal é 67.77 kg\n"
          ],
          "name": "stdout"
        }
      ]
    },
    {
      "cell_type": "markdown",
      "metadata": {
        "id": "hqo7ig2OpQAu"
      },
      "source": [
        "13. Tendo como dado de entrada a altura (h) de uma pessoa, construa um algoritmo que calcule seu peso ideal, utilizando as seguintes fórmulas:\n",
        "  a. Para homens: (72.7*h) - 58\n",
        "  b. Para mulheres: (62.1*h) - 44.7"
      ]
    },
    {
      "cell_type": "code",
      "metadata": {
        "id": "7kkT55i4pXxl",
        "colab": {
          "base_uri": "https://localhost:8080/"
        },
        "outputId": "83dc397f-5d38-4859-bac2-5e36e7ddf115"
      },
      "source": [
        "alt = input('Digite a sua altutra: ')\n",
        "alt = alt.replace(',','.')\n",
        "alt = float(alt)\n",
        "sexo = input('Digite H para homens ou M para mulheres: ')\n",
        "\n",
        "if sexo == 'H':\n",
        "  peso_ideal = (72.7 * alt) - 58\n",
        "else:\n",
        "  peso_ideal = (62.1 * alt) - 44.7\n",
        "print(f'O seu peso ideal é {peso_ideal:.2f}')"
      ],
      "execution_count": null,
      "outputs": [
        {
          "output_type": "stream",
          "text": [
            "Digite a sua altutra: 1,6\n",
            "Digite H para homens ou M para mulheres: H\n",
            "O seu peso ideal é 58.32\n"
          ],
          "name": "stdout"
        }
      ]
    },
    {
      "cell_type": "markdown",
      "metadata": {
        "id": "DvWh2g2UkN3k"
      },
      "source": [
        "14.João Papo-de-Pescador, homem de bem, comprou um microcomputador para controlar o rendimento diário de seu trabalho. Toda vez que ele traz um peso de peixes maior que o estabelecido pelo regulamento de pesca do estado de São Paulo (50 quilos) deve pagar uma multa de R$ 4,00 por quilo excedente. João precisa que você faça um programa que leia a variável peso (peso de peixes) e calcule o excesso. Gravar na variável excesso a quantidade de quilos além do limite e na variável multa o valor da multa que João deverá pagar. Imprima os dados do programa com as mensagens adequadas."
      ]
    },
    {
      "cell_type": "code",
      "metadata": {
        "colab": {
          "base_uri": "https://localhost:8080/"
        },
        "id": "InB9D1odkPLa",
        "outputId": "a1f5cdae-553b-48a9-dc77-82b8ecf00745"
      },
      "source": [
        "peso = input('Digite o peso: ')\n",
        "peso = peso.replace(',','.')\n",
        "peso = float(peso)\n",
        "excesso = 0\n",
        "multa = 0\n",
        "\n",
        "if peso > 50:\n",
        "  excesso = peso - 50\n",
        "  multa = float(excesso * 4)\n",
        "else:\n",
        "  excesso = 0\n",
        "  multa = 0\n",
        "print(f'O peso excedente é de {excesso:.2f} kg')\n",
        "print(f'A multa devida é de R$ {multa:.2f}')"
      ],
      "execution_count": null,
      "outputs": [
        {
          "output_type": "stream",
          "text": [
            "Digite o peso: 56\n",
            "O peso excedente é de 6.00 kg\n",
            "A multa devida é de R$ 24.00\n"
          ],
          "name": "stdout"
        }
      ]
    },
    {
      "cell_type": "markdown",
      "metadata": {
        "id": "G0KNFsFsmhDb"
      },
      "source": [
        "15. Faça um Programa que pergunte quanto você ganha por hora e o número de horas trabalhadas no mês. Calcule e mostre o total do seu salário no referido mês, sabendo-se que são descontados 11% para o Imposto de Renda, 8% para o INSS e 5% para o sindicato, faça um programa que nos dê:\n",
        "salário bruto.\n",
        "quanto pagou ao INSS.\n",
        "quanto pagou ao sindicato.\n",
        "o salário líquido.\n",
        "calcule os descontos e o salário líquido, conforme a tabela abaixo\n",
        "\n"
      ]
    },
    {
      "cell_type": "code",
      "metadata": {
        "colab": {
          "base_uri": "https://localhost:8080/"
        },
        "id": "IMGVt2nGmiw5",
        "outputId": "d8ad897f-7e56-4712-909f-c0b81b982d25"
      },
      "source": [
        "hora = input('Qual o valor da hora trabalhada?: ')\n",
        "hora = hora.replace(',','.')\n",
        "hora = float(hora)\n",
        "numero_horas = input('Quantas horas de trabalho por mês?: ')\n",
        "numero_horas = numero_horas.replace(',','.')\n",
        "numero_horas = float(numero_horas)\n",
        "salario_bruto = hora * numero_horas\n",
        "ir = salario_bruto * 0.11\n",
        "inss = salario_bruto * 0.08\n",
        "sind = salario_bruto * 0.05\n",
        "salario_liquido = salario_bruto - ir - inss - sind\n",
        "print(f'+ Salário Bruto : R$ {salario_bruto:.2f}\\n- IR = R$ {ir:.2f}\\n- INSS = R$ {inss:.2f}\\n- Sindicato = R$ {sind:.2f}\\n= Salário Líquido = R$ {salario_liquido:.2f}')"
      ],
      "execution_count": null,
      "outputs": [
        {
          "output_type": "stream",
          "text": [
            "Qual o valor da hora trabalhada?: 12\n",
            "Quantas horas de trabalho por mês?: 200\n",
            "+ Salário Bruto : R$ 2400.00\n",
            "- IR = R$ 264.00\n",
            "- INSS = R$ 192.00\n",
            "- Sindicato = R$ 120.00\n",
            "= Salário Líquido = R$ 1824.00\n"
          ],
          "name": "stdout"
        }
      ]
    },
    {
      "cell_type": "markdown",
      "metadata": {
        "id": "5pA2K06PtY--"
      },
      "source": [
        "16. Faça um programa para uma loja de tintas. O programa deverá pedir o tamanho em metros quadrados da área a ser pintada. Considere que a cobertura da tinta é de 1 litro para cada 3 metros quadrados e que a tinta é vendida em latas de 18 litros, que custam R$ 80,00. Informe ao usuário a quantidades de latas de tinta a serem compradas e o preço total."
      ]
    },
    {
      "cell_type": "code",
      "metadata": {
        "id": "6rDL9u1StafB",
        "colab": {
          "base_uri": "https://localhost:8080/"
        },
        "outputId": "4611f7c4-ea3c-456f-f720-2fa7fa289a36"
      },
      "source": [
        "import math\n",
        "\n",
        "area_1 = input('Qual a área a ser pintada?: ')\n",
        "area_1 = area_1.replace(',','.')\n",
        "area_1 = float(area)\n",
        "litros_1 = area_1 / 3\n",
        "latas_1 = math.ceil(litros_1 / 18)\n",
        "preco_1 = float(latas_1 * 80)\n",
        "print(f'Quantidades de latas = {latas}\\nPreço = R$ {preco_1:.2f}')"
      ],
      "execution_count": null,
      "outputs": [
        {
          "output_type": "stream",
          "text": [
            "Qual a área a ser pintada?: 200\n",
            "Quantidades de latas = 4\n",
            "Preço = R$ 320.00\n"
          ],
          "name": "stdout"
        }
      ]
    },
    {
      "cell_type": "markdown",
      "metadata": {
        "id": "KLHcGS7AyO-h"
      },
      "source": [
        "17. Faça um Programa para uma loja de tintas. O programa deverá pedir o tamanho em metros quadrados da área a ser pintada. Considere que a cobertura da tinta é de 1 litro para cada 6 metros quadrados e que a tinta é vendida em latas de 18 litros, que custam R$ 80,00 ou em galões de 3,6 litros, que custam R$ 25,00.\n",
        "Informe ao usuário as quantidades de tinta a serem compradas e os respectivos preços em 3 situações:\n",
        "comprar apenas latas de 18 litros;\n",
        "comprar apenas galões de 3,6 litros;\n",
        "misturar latas e galões, de forma que o desperdício de tinta seja menor. Acrescente 10% de folga e sempre arredonde os valores para cima, isto é, considere latas cheias."
      ]
    },
    {
      "cell_type": "code",
      "metadata": {
        "colab": {
          "base_uri": "https://localhost:8080/"
        },
        "id": "WI7PA1J9ySeD",
        "outputId": "06fe91bf-0f43-4606-99e1-6dd745c8c77f"
      },
      "source": [
        "import math\n",
        "\n",
        "area = input('Qual a área a ser pintada?: ')\n",
        "area = area.replace(',','.')\n",
        "area = float(area)\n",
        "litros = (area / 6) * 1.1\n",
        "latas_1 = math.ceil(litros / 18)\n",
        "galoes_1 = math.ceil(litros / 3.6)\n",
        "preco_lata = float(latas_1 * 80)\n",
        "preco_galao = float(galoes_1 * 25)\n",
        "print(f'Latas necessárias: {latas_1}')\n",
        "print(f'Preço = R$ {preco_lata:.2f}')\n",
        "print(f'Galões necessários: {galoes_1}')\n",
        "print(f'Preço = R$ {preco_galao:.2f}')\n",
        "if area <= 108:\n",
        "# 1 galão de 18 litros pinta 108 m²\n",
        "  print(f'Galões necessários: {galoes_1}')\n",
        "  print(f'Preço = R$ {preco_galao:.2f}')\n",
        "else:\n",
        "  latas_2 = math.floor(litros / 18)\n",
        "  galoes_2 = math.ceil((litros % 18) / 3.6)\n",
        "  preco_lata_galao = float((latas_2 * 80) + (galoes_2 * 25)) \n",
        "  print(f'Serão necessários {latas_2} latas e {galoes_2} galões.')\n",
        "  print(f'Preço = R$ {preco_lata_galao:.2f}')\n"
      ],
      "execution_count": null,
      "outputs": [
        {
          "output_type": "stream",
          "text": [
            "Qual a área a ser pintada?: 526\n",
            "Latas necessárias: 6\n",
            "Preço = R$ 480.00\n",
            "Galões necessários: 27\n",
            "Preço = R$ 675.00\n",
            "Serão necessários 5 latas e 2 galões.\n",
            "Preço = R$ 450.00\n"
          ],
          "name": "stdout"
        }
      ]
    },
    {
      "cell_type": "markdown",
      "metadata": {
        "id": "bcLnpcpqCTde"
      },
      "source": [
        "18. Faça um programa que peça o tamanho de um arquivo para download (em MB) e a velocidade de um link de Internet (em Mbps), calcule e informe o tempo aproximado de download do arquivo usando este link (em minutos).\n"
      ]
    },
    {
      "cell_type": "code",
      "metadata": {
        "colab": {
          "base_uri": "https://localhost:8080/"
        },
        "id": "f-1pnzSgCWYC",
        "outputId": "ca97fcec-e5d2-4574-8595-10ad4a2b37bd"
      },
      "source": [
        "import math\n",
        "tam_mb = input('Qual o tamanho do arquivo em MB?: ')\n",
        "tam_mb = tam_mb.replace(',','.')\n",
        "tam_mb = float(tam_mb)\n",
        "\n",
        "vel = input('Qual a velocidade da conexão em Mbps?: ')\n",
        "vel = vel.replace(',','.')\n",
        "vel = float(vel)\n",
        "vel_mb = vel / 8\n",
        "\n",
        "tempo = (tam_mb / vel_mb) / 60\n",
        "print(f'O tempo estimado é de {tempo:.2f} minutos')"
      ],
      "execution_count": null,
      "outputs": [
        {
          "output_type": "stream",
          "text": [
            "Qual o tamanho do arquivo em MB?: 1000\n",
            "Qual a velocidade da conexão em Mbps?: 100\n",
            "O tempo estimado é de 1.33 minutos\n"
          ],
          "name": "stdout"
        }
      ]
    }
  ]
}